{
 "cells": [
  {
   "cell_type": "code",
   "execution_count": 1,
   "metadata": {},
   "outputs": [
    {
     "name": "stdout",
     "output_type": "stream",
     "text": [
      "Hope the one who is reading this has a curve of smile in the face\n"
     ]
    }
   ],
   "source": [
    "print(\"Hope the one who is reading this has a curve of smile in the face\")"
   ]
  },
  {
   "cell_type": "code",
   "execution_count": 4,
   "metadata": {},
   "outputs": [
    {
     "data": {
      "text/plain": [
       "'apple'"
      ]
     },
     "execution_count": 4,
     "metadata": {},
     "output_type": "execute_result"
    }
   ],
   "source": [
    "#integer-varaible\n",
    "v=10\n",
    " #string-variable\n",
    "a=\"apple\"\n",
    "a"
   ]
  },
  {
   "cell_type": "code",
   "execution_count": 5,
   "metadata": {},
   "outputs": [
    {
     "name": "stdout",
     "output_type": "stream",
     "text": [
      "25\n",
      "55555\n"
     ]
    }
   ],
   "source": [
    "a=5 #integer(number)\n",
    "b='5' #string(within single/double quotes)\n",
    "print(a*5) #(5*5=25)\n",
    "print(b*5) #(b is string it will repeat the string 5 times, So Funny:)"
   ]
  },
  {
   "cell_type": "code",
   "execution_count": 6,
   "metadata": {},
   "outputs": [
    {
     "name": "stdout",
     "output_type": "stream",
     "text": [
      "hello myself python version 3.7\n"
     ]
    }
   ],
   "source": [
    "v=3.7\n",
    "n=\"python\"\n",
    "print(\"hello myself\",n,\"version\",v) #Here the var n is used to call the value /reference of n\n"
   ]
  },
  {
   "cell_type": "code",
   "execution_count": 7,
   "metadata": {},
   "outputs": [
    {
     "name": "stdout",
     "output_type": "stream",
     "text": [
      "The value of c is 12\n",
      "The value of c is 16\n"
     ]
    }
   ],
   "source": [
    "c=12\n",
    "print(\"The value of c is\",c)\n",
    "c=16\n",
    "print(\"The value of c is\",c)"
   ]
  },
  {
   "cell_type": "code",
   "execution_count": 8,
   "metadata": {},
   "outputs": [
    {
     "name": "stdout",
     "output_type": "stream",
     "text": [
      "1\n",
      "2\n"
     ]
    }
   ],
   "source": [
    "c=1\n",
    "print(c)\n",
    "# incrementing c by 1\n",
    "c=c+1\n",
    "print(c)"
   ]
  },
  {
   "cell_type": "code",
   "execution_count": 9,
   "metadata": {},
   "outputs": [
    {
     "name": "stdout",
     "output_type": "stream",
     "text": [
      "4\n",
      "5\n"
     ]
    }
   ],
   "source": [
    "# In python console\n",
    "a=4;print(a);a=a+1;print(a)# multiple commands in console\n"
   ]
  },
  {
   "cell_type": "code",
   "execution_count": 10,
   "metadata": {},
   "outputs": [
    {
     "name": "stdout",
     "output_type": "stream",
     "text": [
      "Enter your name:KAJAL\n",
      "Hello!  KAJAL  How are you?\n"
     ]
    }
   ],
   "source": [
    "#Text inside quotes will be displayed to the user and the input will be assigned to the variable(m in this case)\n",
    "m=input(\"Enter your name:\")\n",
    "print(\"Hello! \",m,\" How are you?\")"
   ]
  },
  {
   "cell_type": "code",
   "execution_count": 11,
   "metadata": {},
   "outputs": [
    {
     "name": "stdout",
     "output_type": "stream",
     "text": [
      "8\n"
     ]
    }
   ],
   "source": [
    "b='5'#string(within single/double quotes)\n",
    "c=int(b)#b will be converted into integer type and then stored in variable c\n",
    "print(c+3)\n"
   ]
  },
  {
   "cell_type": "code",
   "execution_count": 12,
   "metadata": {},
   "outputs": [
    {
     "name": "stdout",
     "output_type": "stream",
     "text": [
      "Enter the cost of the item1200\n",
      "The cost after 10% discount is  1080.0\n"
     ]
    }
   ],
   "source": [
    "c=int(input(\"Enter the cost of the item\"))#getting the cost as integer input\n",
    "a=c*0.9#a is the cost after discount,i.e, discount is 10% so price to pay=cost*90%\n",
    "print(\"The cost after 10% discount is \",a)"
   ]
  },
  {
   "cell_type": "code",
   "execution_count": 1,
   "metadata": {},
   "outputs": [
    {
     "name": "stdout",
     "output_type": "stream",
     "text": [
      "Enter the cost of the item:70000\n",
      "Enter the discount percentage:15\n",
      "The cost after 15 % discount is  59500.0\n"
     ]
    }
   ],
   "source": [
    "c=int(input(\"Enter the cost of the item:\"))#getting the cost as integer input\n",
    "d=int(input(\"Enter the discount percentage:\"))#getting the discount% as integer input\n",
    "a=c-(c*d*0.01)#since d is in percentage multiple by 0.01\n",
    "#(c*d*0.01) will give the discount amount, this should be subtracted form total amount to get cost after discount\n",
    "print(\"The cost after\",d,\"% discount is \",a)\n"
   ]
  },
  {
   "cell_type": "code",
   "execution_count": 15,
   "metadata": {},
   "outputs": [
    {
     "name": "stdout",
     "output_type": "stream",
     "text": [
      "hello\n",
      "inside if\n"
     ]
    }
   ],
   "source": [
    "if (5>4):\n",
    "    print(\"hello\")\n",
    "    print(\"inside if\")\n",
    "#This space before the print statement, indicates that this belongs to the if block/object"
   ]
  },
  {
   "cell_type": "code",
   "execution_count": 18,
   "metadata": {},
   "outputs": [
    {
     "name": "stdout",
     "output_type": "stream",
     "text": [
      "Enter a number:9\n",
      "9 is less than 10\n",
      "9 is odd\n"
     ]
    }
   ],
   "source": [
    "a=int(input(\"Enter a number:\"))\n",
    "if(a<10):\n",
    "    #inside the first if\n",
    "    print(a,\"is less than 10\")\n",
    "    if(a%2==0):\n",
    "        #inside the second if\n",
    "        print(a,\"is even\")\n",
    "    else:\n",
    "        #inside else\n",
    "        print(a,\"is odd\")\n",
    "#outside of the first if\n",
    "#Note if and else be i same indentation else it will be called as if object or block"
   ]
  },
  {
   "cell_type": "code",
   "execution_count": 19,
   "metadata": {},
   "outputs": [
    {
     "name": "stdout",
     "output_type": "stream",
     "text": [
      "Hi How are you\n",
      "Please enter your choice:3\n",
      "Ahhh.... I am tired\n"
     ]
    }
   ],
   "source": [
    "print(\"Hi How are you\")\n",
    "c=input(\"Please enter your choice:\")\n",
    "d=int(c)\n",
    "if(d==1):\n",
    "    print(\"You entered one\")\n",
    "if(d==2):\n",
    "    print(\"You entered two\")\n",
    "if(d==3):\n",
    "    print(\"Ahhh.... I am tired\")\n"
   ]
  },
  {
   "cell_type": "code",
   "execution_count": 20,
   "metadata": {},
   "outputs": [
    {
     "name": "stdout",
     "output_type": "stream",
     "text": [
      "0\n",
      "1\n",
      "2\n",
      "3\n",
      "4\n",
      "5\n",
      "6\n",
      "7\n",
      "8\n",
      "9\n"
     ]
    }
   ],
   "source": [
    "# assigning variable \"i\" in a range up to 10 which from 0 to 9\n",
    "for i in range(10):\n",
    "    #for every value of i from 0 to 9(excluding 10)the print() statement will be executed\n",
    "    print(i)\n"
   ]
  },
  {
   "cell_type": "code",
   "execution_count": 21,
   "metadata": {},
   "outputs": [
    {
     "name": "stdout",
     "output_type": "stream",
     "text": [
      "0\n",
      "1\n",
      "2\n",
      "3\n",
      "4\n",
      "5\n",
      "6\n",
      "7\n",
      "8\n",
      "9\n",
      "10\n"
     ]
    }
   ],
   "source": [
    "# assigning variable \"i\" in a range up to 10 which from 0 to 9\n",
    "for i in range(11):\n",
    "    #for every value of i from 0 to 9(including 10)the print() statement will be executed\n",
    "    print(i)"
   ]
  },
  {
   "cell_type": "code",
   "execution_count": 22,
   "metadata": {},
   "outputs": [
    {
     "name": "stdout",
     "output_type": "stream",
     "text": [
      "1\n",
      "2\n",
      "3\n",
      "4\n",
      "5\n",
      "6\n",
      "7\n",
      "8\n",
      "9\n",
      "10\n"
     ]
    }
   ],
   "source": [
    "# assigning variable \"i\" in a range up to 10 which from 0 to 9\n",
    "for i in range(10): #for every value of i from 0 to 9(including 10)the print() statement will be executed\n",
    "    print(i+1) # increment printing variable for i values"
   ]
  },
  {
   "cell_type": "code",
   "execution_count": 23,
   "metadata": {},
   "outputs": [
    {
     "name": "stdout",
     "output_type": "stream",
     "text": [
      "0\n",
      "1\n",
      "2\n",
      "3\n",
      "4\n",
      "5\n",
      "6\n",
      "7\n",
      "8\n",
      "9\n"
     ]
    }
   ],
   "source": [
    "#Initialization of variable \n",
    "n=0\n",
    "#whlie loop with condition that n<10\n",
    "while(n<10):\n",
    "    #execute the print() until the condition is true i.e,n<10\n",
    "    print(n)\n",
    "    #incrementing the variable\n",
    "    n=n+1"
   ]
  },
  {
   "cell_type": "code",
   "execution_count": 24,
   "metadata": {},
   "outputs": [
    {
     "name": "stdout",
     "output_type": "stream",
     "text": [
      "1\n",
      "2\n",
      "3\n",
      "4\n",
      "5\n"
     ]
    }
   ],
   "source": [
    "i = 1  \n",
    "while True:  \n",
    "    #do this highlighted block\n",
    "    print(i)  \n",
    "    i = i + 1 \n",
    "    #while this condition is True \n",
    "    if(i > 5):  \n",
    "        break"
   ]
  },
  {
   "cell_type": "code",
   "execution_count": 25,
   "metadata": {},
   "outputs": [
    {
     "name": "stdout",
     "output_type": "stream",
     "text": [
      "Apple\n",
      "Mango\n",
      "Gwava\n",
      "Lichi\n",
      "Papaya\n"
     ]
    }
   ],
   "source": [
    "i=[\"Apple\",\"Mango\",\"Gwava\",\"Lichi\",\"Papaya\"]\n",
    "for fruit in i:#giving elements of variable i to the fruit variable from 0 to the range\n",
    "    print(fruit) #printing fruit which has i\n"
   ]
  },
  {
   "cell_type": "code",
   "execution_count": 26,
   "metadata": {},
   "outputs": [
    {
     "name": "stdout",
     "output_type": "stream",
     "text": [
      "['Mom', 'Dad', 'son', 'daughter']\n"
     ]
    }
   ],
   "source": [
    "family = [\"Mom\",\"Dad\",\"son\"] #creating list\n",
    "\n",
    "family.append(\"daughter\") #appending an element \n",
    "\n",
    "print(family) #printing list"
   ]
  },
  {
   "cell_type": "code",
   "execution_count": 27,
   "metadata": {},
   "outputs": [
    {
     "name": "stdout",
     "output_type": "stream",
     "text": [
      "1\n"
     ]
    }
   ],
   "source": [
    "Family=['Mom','Dad','son','daughter']\n",
    "a=Family.count(\"son\")\n",
    "print(a)"
   ]
  },
  {
   "cell_type": "code",
   "execution_count": 28,
   "metadata": {},
   "outputs": [
    {
     "name": "stdout",
     "output_type": "stream",
     "text": [
      "['Mom', 'Dad', 'daughter']\n",
      "['Mom', 'Dad', 'son', 'daughter']\n"
     ]
    }
   ],
   "source": [
    "Family=['Mom','Dad','son','daughter']\n",
    "New_Family=Family.copy()\n",
    "Family.remove(\"son\")\n",
    "print(Family)\n",
    "print(New_Family)"
   ]
  },
  {
   "cell_type": "code",
   "execution_count": 29,
   "metadata": {},
   "outputs": [
    {
     "name": "stdout",
     "output_type": "stream",
     "text": [
      "LIST1 ['Maths', 'physics', 'chemistry', 400, 350]\n",
      "LIST2 [5, 10, 12, 15, 25, 15]\n",
      "after append list1 ['Maths', 'physics', 'chemistry', 400, 350, 'Biology']\n",
      "after append list2 [5, 10, 12, 15, 25, 15, 35]\n",
      "before copy []\n",
      "after copy [5, 10, 12, 15, 25, 15, 35]\n",
      "count of 15 in list2 2\n",
      "index of 'chemistry' 2\n",
      "index of '25'  4\n",
      "b before extend [2, 3]\n",
      "b after extend [2, 3, 5, 10, 12, 15, 25, 15, 35]\n",
      "before insert-list1 ['Maths', 'physics', 'chemistry', 400, 350, 'Biology']\n",
      "before insert-list2 ['Maths', 'physics', 'coding', 'chemistry', 400, 350, 'Biology']\n",
      "length of list1 7\n",
      "length of list2 7\n",
      "Reverse of list2 [35, 15, 25, 15, 12, 10, 5]\n",
      "Sorted list2 [5, 10, 12, 15, 15, 25, 35]\n",
      "sum of list2 117\n",
      "min-list2 5\n",
      "max-list2 35\n"
     ]
    }
   ],
   "source": [
    "#list operations\n",
    "list1=['Maths','physics','chemistry',400,350]\n",
    "list2=[5,10,12,15,25,15]\n",
    "#append()- adds a element at end of list\n",
    "print(\"LIST1\",list1)\n",
    "print(\"LIST2\",list2)\n",
    "list1.append('Biology')#appending string\n",
    "list2.append(35)#appending int\n",
    "print(\"after append list1\",list1)\n",
    "print(\"after append list2\",list2)\n",
    "#copy() - copy of a list/clones a list\n",
    "copy=[]\n",
    "print(\"before copy\",copy)\n",
    "copy=list2.copy()\n",
    "print(\"after copy\",copy)\n",
    "#count() -parameter=list element, returns its count\n",
    "a=list2.count(15)\n",
    "print(\"count of 15 in list2\",a)\n",
    "#index() -Returns index of specified item(1st occurance)\n",
    "print(\"index of 'chemistry'\",list1.index('chemistry'))\n",
    "print(\"index of '25' \",list2.index(25))\n",
    "#extend() -adds the element and extends the list\n",
    "b=[2,3]\n",
    "print(\"b before extend\",b)\n",
    "b.extend(list2)\n",
    "print(\"b after extend\",b)\n",
    "#insert() -Inserts the element at specified position\n",
    "print(\"before insert-list1\",list1)\n",
    "list1.insert(2,\"coding\")\n",
    "print(\"before insert-list2\",list1)\n",
    "#len()- returns the lenght of the list\n",
    "print(\"length of list1\",len(list1))\n",
    "print(\"length of list2\",len(list2))\n",
    "#reverse() - reverses the order of the list\n",
    "c=list2\n",
    "c.reverse()\n",
    "print(\"Reverse of list2\",c)\n",
    "#sort()-returns the sorted list\n",
    "d=list2\n",
    "d.sort()\n",
    "print(\"Sorted list2\",d)\n",
    "#sum- returns sum of all elements of the list\n",
    "print(\"sum of list2\",sum(list2))\n",
    "#min(),max() - returns min and max value\n",
    "print(\"min-list2\",min(list2))\n",
    "print(\"max-list2\",max(list2))"
   ]
  },
  {
   "cell_type": "code",
   "execution_count": 30,
   "metadata": {},
   "outputs": [
    {
     "name": "stdout",
     "output_type": "stream",
     "text": [
      "[1, 2, 3, 4, 5, 6, 7, 8, 9, 10]\n",
      "5\n",
      "[3, 4, 5]\n",
      "[1, 2, 3, 4]\n",
      "[7, 8, 9, 10]\n",
      "[7, 8, 9]\n",
      "[4, 6, 8]\n",
      "[1, 4, 7, 10]\n",
      "[10, 9, 8, 7, 6, 5, 4, 3, 2, 1]\n"
     ]
    }
   ],
   "source": [
    "num=[1,2,3,4,5,6,7,8,9,10]\n",
    "#printing the full list\n",
    "print(num)\n",
    "#printing a specific element\n",
    "print(num[4])\n",
    "#slicing the list num- it prints elements form index 2 to (5-1)=4\n",
    "print(num[2:5])\n",
    "#start not specified\n",
    "print(num[:4])\n",
    "#stop not specified\n",
    "print(num[6:])\n",
    "#negative indexing\n",
    "print(num[-4:-1])\n",
    "#steps-specified- two steps \n",
    "print(num[3:-1:2])\n",
    "#only 3 steps\n",
    "print(num[::3])\n",
    "#negative stepping\n",
    "print(num[::-1])"
   ]
  },
  {
   "cell_type": "code",
   "execution_count": 31,
   "metadata": {},
   "outputs": [
    {
     "name": "stdout",
     "output_type": "stream",
     "text": [
      "Buzz\n",
      "101\n",
      "Fizz\n",
      "103\n",
      "104\n",
      "FizzBuzz\n",
      "106\n",
      "107\n",
      "Fizz\n",
      "109\n",
      "Buzz\n",
      "Fizz\n",
      "112\n",
      "113\n",
      "Fizz\n",
      "Buzz\n",
      "116\n",
      "Fizz\n",
      "118\n",
      "119\n",
      "FizzBuzz\n",
      "121\n",
      "122\n",
      "Fizz\n",
      "124\n",
      "Buzz\n",
      "Fizz\n",
      "127\n",
      "128\n",
      "Fizz\n",
      "Buzz\n"
     ]
    }
   ],
   "source": [
    "i=100\n",
    "while(i<=130):\n",
    "    if(i%3 == 0 and i%5 == 0):\n",
    "        print(\"FizzBuzz\")\n",
    "    elif(i%3 == 0):\n",
    "        print(\"Fizz\")\n",
    "    elif(i%5 == 0):\n",
    "        print(\"Buzz\")\n",
    "    else:\n",
    "        print(i)\n",
    "    i=i+1"
   ]
  },
  {
   "cell_type": "markdown",
   "metadata": {},
   "source": [
    "# python code for FizzBuzz using function"
   ]
  },
  {
   "cell_type": "code",
   "execution_count": 32,
   "metadata": {},
   "outputs": [
    {
     "name": "stdout",
     "output_type": "stream",
     "text": [
      "Enter a number12\n",
      "1\n",
      "2\n",
      "3=Fizz\n",
      "4\n",
      "5=Buzz\n",
      "6=Fizz\n",
      "7\n",
      "8\n",
      "9=Fizz\n",
      "10=Buzz\n",
      "11\n",
      "12=Fizz\n"
     ]
    }
   ],
   "source": [
    "#getting the limit as input from the user\n",
    "n=int(input(\"Enter a number\"))\n",
    "#function definition\n",
    "def fizzbuzz(n): #n is the argument\n",
    "    #body of the function  \n",
    "    for i in range(1,n+1):\n",
    "        if (i%3==0 and i%5==0):\n",
    "            print(str(i)+\"=Fizz Buzz\")\n",
    "        elif (i%3==0):\n",
    "            print(str(i)+\"=Fizz\")\n",
    "        elif (i%5==0):\n",
    "            print(str(i)+\"=Buzz\")\n",
    "        else:\n",
    "            print(str(i))\n",
    "#function call\n",
    "fizzbuzz(n)"
   ]
  },
  {
   "cell_type": "code",
   "execution_count": 33,
   "metadata": {},
   "outputs": [
    {
     "name": "stdout",
     "output_type": "stream",
     "text": [
      "Enter a number45\n",
      "45=Fizz Buzz\n"
     ]
    }
   ],
   "source": [
    "n=int(input(\"Enter a number\"))\n",
    "def fizzbuzz(n):\n",
    "    if (n%3==0 and n%5==0):\n",
    "        print(str(n)+\"=Fizz Buzz\")\n",
    "    elif (n%3==0):\n",
    "        print(str(n)+\"=Fizz\")\n",
    "    elif (n%5==0):\n",
    "        print(str(n)+\"=Buzz\")\n",
    "    else:\n",
    "        print(str(n)+\"=Not Fizz or Buzz\")\n",
    "fizzbuzz(n)"
   ]
  },
  {
   "cell_type": "code",
   "execution_count": null,
   "metadata": {},
   "outputs": [],
   "source": [
    "with open(\"filename..ext\",\"r\") as name : #for opening a file with name specified with permission to only read it <br>\n",
    "with open(\"filename..ext\",\"w\") as name : #for opening a file with name specified with permission to only write it <br>\n",
    "with open(\"filename..ext\",\"r+\") as name : #for opening a file with name specified with permission to only read & write it <br>\n",
    "with open(\"filename..ext\",\"a\") as name : #for opening a file with name specified with permission to only read & write/append it <br>\n"
   ]
  },
  {
   "cell_type": "code",
   "execution_count": null,
   "metadata": {},
   "outputs": [],
   "source": [
    "import random: #imports random module(must before using any function for random module"
   ]
  },
  {
   "cell_type": "code",
   "execution_count": null,
   "metadata": {},
   "outputs": [],
   "source": [
    "random.randint(Start , Stop): # genrates random no. including specified parameters<br>\n",
    "random.randrange(Start , Stop): # genrates random no. excluding specified parameters<br>\n",
    "random.random(Start , End): # genrates decimal random no.<br>\n",
    "random.choice(Start , End): # genrates random no. only between specified parameters<br>"
   ]
  },
  {
   "cell_type": "code",
   "execution_count": null,
   "metadata": {},
   "outputs": [],
   "source": [
    "random.randrange(Start , Stop,[Steps]): # generates random no. including specified parameters as odd if step value is even and even if steps value is odd<br>"
   ]
  },
  {
   "cell_type": "markdown",
   "metadata": {},
   "source": [
    "# Magic Square Algorithm:"
   ]
  },
  {
   "cell_type": "code",
   "execution_count": null,
   "metadata": {},
   "outputs": [],
   "source": [
    "1. M= n(n^2+1)/2<br>\n",
    "2. 1 is located at (n/2. n-1)<br>\n",
    "3. Next element will be given by (p-1,q+1), if calculated row potion becomes-1, make it n-1 and if column become n then make it 0<br>\n",
    "4. If row position becomes -1 (not fall in given matrix), make it (0,n-2)]<br>\n",
    "3.If the calculated position already contains any '''number''' ,then decrement the column by two and increment the row by '''1'''.<br>\n",
    "4.If any time row position becomes '''-1''' and column position becomes n switch it to'''(0,n-2)''']<br>\n"
   ]
  },
  {
   "cell_type": "markdown",
   "metadata": {},
   "source": [
    "# Magic square"
   ]
  },
  {
   "cell_type": "code",
   "execution_count": 35,
   "metadata": {},
   "outputs": [
    {
     "ename": "IndexError",
     "evalue": "list index out of range",
     "output_type": "error",
     "traceback": [
      "\u001b[1;31m---------------------------------------------------------------------------\u001b[0m",
      "\u001b[1;31mIndexError\u001b[0m                                Traceback (most recent call last)",
      "\u001b[1;32m<ipython-input-35-c62c0150939d>\u001b[0m in \u001b[0;36m<module>\u001b[1;34m\u001b[0m\n\u001b[0;32m     46\u001b[0m              \u001b[0mprint\u001b[0m\u001b[1;33m(\u001b[0m\u001b[1;33m)\u001b[0m\u001b[1;33m\u001b[0m\u001b[1;33m\u001b[0m\u001b[0m\n\u001b[0;32m     47\u001b[0m \u001b[1;33m\u001b[0m\u001b[0m\n\u001b[1;32m---> 48\u001b[1;33m \u001b[0mmagic_square\u001b[0m\u001b[1;33m(\u001b[0m\u001b[1;36m3\u001b[0m\u001b[1;33m)\u001b[0m\u001b[1;33m\u001b[0m\u001b[1;33m\u001b[0m\u001b[0m\n\u001b[0m",
      "\u001b[1;32m<ipython-input-35-c62c0150939d>\u001b[0m in \u001b[0;36mmagic_square\u001b[1;34m(n)\u001b[0m\n\u001b[0;32m     28\u001b[0m                 \u001b[0mrows\u001b[0m\u001b[1;33m=\u001b[0m\u001b[0mn\u001b[0m\u001b[1;33m-\u001b[0m\u001b[1;36m1\u001b[0m\u001b[1;33m\u001b[0m\u001b[1;33m\u001b[0m\u001b[0m\n\u001b[0;32m     29\u001b[0m \u001b[1;31m#condition 4\u001b[0m\u001b[1;33m\u001b[0m\u001b[1;33m\u001b[0m\u001b[1;33m\u001b[0m\u001b[0m\n\u001b[1;32m---> 30\u001b[1;33m         \u001b[1;32mif\u001b[0m\u001b[1;33m(\u001b[0m\u001b[0mmagicSquare\u001b[0m\u001b[1;33m[\u001b[0m\u001b[0mrows\u001b[0m\u001b[1;33m]\u001b[0m\u001b[1;33m[\u001b[0m\u001b[0mcols\u001b[0m\u001b[1;33m]\u001b[0m\u001b[1;33m!=\u001b[0m \u001b[1;36m0\u001b[0m\u001b[1;33m)\u001b[0m\u001b[1;33m:\u001b[0m \u001b[1;31m#if has some elements in location\u001b[0m\u001b[1;33m\u001b[0m\u001b[1;33m\u001b[0m\u001b[0m\n\u001b[0m\u001b[0;32m     31\u001b[0m             \u001b[0mcols\u001b[0m \u001b[1;33m=\u001b[0m \u001b[0mcols\u001b[0m\u001b[1;33m-\u001b[0m\u001b[1;36m2\u001b[0m\u001b[1;33m\u001b[0m\u001b[1;33m\u001b[0m\u001b[0m\n\u001b[0;32m     32\u001b[0m             \u001b[0mrows\u001b[0m \u001b[1;33m=\u001b[0m \u001b[0mrows\u001b[0m\u001b[1;33m+\u001b[0m\u001b[1;36m1\u001b[0m\u001b[1;33m\u001b[0m\u001b[1;33m\u001b[0m\u001b[0m\n",
      "\u001b[1;31mIndexError\u001b[0m: list index out of range"
     ]
    }
   ],
   "source": [
    "def magic_square(n):\n",
    "    magicSquare=[]    # defining a variable magic square\n",
    "    for rows in range(n):\n",
    "        list=[] # defining the list so that whenever loops initiated a new list created for each row\n",
    "    for cols in range(n):\n",
    "        list.append(0) # whenever cols loop will be passed rows will be appended by values in list \n",
    "    magicSquare.append(list)\n",
    "\n",
    "\n",
    "# fIXING THE 1 IN MAGIC SQUARE USING FORMULA(condition 1)\n",
    "    rows=n//2\n",
    "    cols=n-1\n",
    "# Assining matrix as user input no itnot that no \n",
    "    matrix=n*n\n",
    "    count=1 # element variable , as soon as elements will be assinged count variable will increase to next variable Util unless all elements are assinged\n",
    "\n",
    " #Condition 5  \n",
    "    while (count<=matrix):\n",
    "        if(rows==  -1 and cols== n):  \n",
    "            cols = n-2 \n",
    "            rows = 0\n",
    "# Condition 3\n",
    "        else:\n",
    "            if(cols==n):  #Coloum values exceding\n",
    "                cols=0\n",
    "\n",
    "            if(rows<0):#rows value becomes -1\n",
    "                rows=n-1\n",
    "#condition 4\n",
    "        if(magicSquare[rows][cols]!= 0): #if has some elements in location\n",
    "            cols = cols-2 \n",
    "            rows = rows+1\n",
    "            continue   # skip what ever written below this and go back to while loop to check if a condtion said above repeats and do accordingly, if not:\n",
    "        else:\n",
    "            magicSquare[rows][cols] = count\n",
    "            count+=1  #increment the count variable \n",
    "#condition 2(for second element)\n",
    "        rows = rows-1 \n",
    "        cols = cols\n",
    "\n",
    "# printing magicSquare\n",
    "\n",
    "        for rows in range(n):\n",
    "            for cols in range(n):\n",
    "             print(magicSquare[rows][cols], end = \" \")\n",
    "             print()\n",
    "\n",
    "magic_square(3)\n"
   ]
  },
  {
   "cell_type": "code",
   "execution_count": null,
   "metadata": {},
   "outputs": [],
   "source": [
    "magicSquare=[]    # defining a variable magic square\n",
    "    for rows in range(3):\n",
    "        list=[] # defining the list so that whenever loops initiated a new list created for each row\n",
    "    for coloums in range(3):\n",
    "        list.append(0) # whenever coloumns loop will be passed rows will be appended by values in list\n"
   ]
  },
  {
   "cell_type": "markdown",
   "metadata": {},
   "source": [
    "# Program for Spot The Similarity"
   ]
  },
  {
   "cell_type": "code",
   "execution_count": 36,
   "metadata": {},
   "outputs": [
    {
     "name": "stdout",
     "output_type": "stream",
     "text": [
      "The selected first position is :  2\n",
      "The selected Second position is :  3\n"
     ]
    },
    {
     "ename": "IndexError",
     "evalue": "Cannot choose from an empty sequence",
     "output_type": "error",
     "traceback": [
      "\u001b[1;31m---------------------------------------------------------------------------\u001b[0m",
      "\u001b[1;31mIndexError\u001b[0m                                Traceback (most recent call last)",
      "\u001b[1;32m<ipython-input-36-3852bbed1353>\u001b[0m in \u001b[0;36m<module>\u001b[1;34m\u001b[0m\n\u001b[0;32m     21\u001b[0m     \u001b[0mCard1\u001b[0m\u001b[1;33m[\u001b[0m\u001b[0mpos1\u001b[0m\u001b[1;33m]\u001b[0m\u001b[1;33m=\u001b[0m\u001b[0msamesymbol\u001b[0m\u001b[1;33m\u001b[0m\u001b[1;33m\u001b[0m\u001b[0m\n\u001b[0;32m     22\u001b[0m     \u001b[0mCard2\u001b[0m\u001b[1;33m[\u001b[0m\u001b[0mpos2\u001b[0m\u001b[1;33m]\u001b[0m\u001b[1;33m=\u001b[0m\u001b[0msamesymbol\u001b[0m\u001b[1;33m\u001b[0m\u001b[1;33m\u001b[0m\u001b[0m\n\u001b[1;32m---> 23\u001b[1;33m     \u001b[0mCard1\u001b[0m\u001b[1;33m[\u001b[0m\u001b[0mpos2\u001b[0m\u001b[1;33m]\u001b[0m\u001b[1;33m=\u001b[0m\u001b[0mrandom\u001b[0m\u001b[1;33m.\u001b[0m\u001b[0mchoice\u001b[0m\u001b[1;33m(\u001b[0m\u001b[0msymbols\u001b[0m\u001b[1;33m)\u001b[0m\u001b[1;33m\u001b[0m\u001b[1;33m\u001b[0m\u001b[0m\n\u001b[0m\u001b[0;32m     24\u001b[0m     \u001b[0msymbols\u001b[0m\u001b[1;33m.\u001b[0m \u001b[0mremove\u001b[0m\u001b[1;33m(\u001b[0m\u001b[0mcard1\u001b[0m\u001b[1;33m[\u001b[0m\u001b[0mpos2\u001b[0m\u001b[1;33m]\u001b[0m\u001b[1;33m)\u001b[0m\u001b[1;33m\u001b[0m\u001b[1;33m\u001b[0m\u001b[0m\n\u001b[0;32m     25\u001b[0m     \u001b[0mCard2\u001b[0m\u001b[1;33m[\u001b[0m\u001b[0mpos1\u001b[0m\u001b[1;33m]\u001b[0m\u001b[1;33m=\u001b[0m\u001b[0mrandom\u001b[0m\u001b[1;33m.\u001b[0m\u001b[0mchoice\u001b[0m\u001b[1;33m(\u001b[0m\u001b[0msymbols\u001b[0m\u001b[1;33m)\u001b[0m\u001b[1;33m\u001b[0m\u001b[1;33m\u001b[0m\u001b[0m\n",
      "\u001b[1;32mC:\\ProgramData\\Anaconda3\\lib\\random.py\u001b[0m in \u001b[0;36mchoice\u001b[1;34m(self, seq)\u001b[0m\n\u001b[0;32m    259\u001b[0m             \u001b[0mi\u001b[0m \u001b[1;33m=\u001b[0m \u001b[0mself\u001b[0m\u001b[1;33m.\u001b[0m\u001b[0m_randbelow\u001b[0m\u001b[1;33m(\u001b[0m\u001b[0mlen\u001b[0m\u001b[1;33m(\u001b[0m\u001b[0mseq\u001b[0m\u001b[1;33m)\u001b[0m\u001b[1;33m)\u001b[0m\u001b[1;33m\u001b[0m\u001b[1;33m\u001b[0m\u001b[0m\n\u001b[0;32m    260\u001b[0m         \u001b[1;32mexcept\u001b[0m \u001b[0mValueError\u001b[0m\u001b[1;33m:\u001b[0m\u001b[1;33m\u001b[0m\u001b[1;33m\u001b[0m\u001b[0m\n\u001b[1;32m--> 261\u001b[1;33m             \u001b[1;32mraise\u001b[0m \u001b[0mIndexError\u001b[0m\u001b[1;33m(\u001b[0m\u001b[1;34m'Cannot choose from an empty sequence'\u001b[0m\u001b[1;33m)\u001b[0m \u001b[1;32mfrom\u001b[0m \u001b[1;32mNone\u001b[0m\u001b[1;33m\u001b[0m\u001b[1;33m\u001b[0m\u001b[0m\n\u001b[0m\u001b[0;32m    262\u001b[0m         \u001b[1;32mreturn\u001b[0m \u001b[0mseq\u001b[0m\u001b[1;33m[\u001b[0m\u001b[0mi\u001b[0m\u001b[1;33m]\u001b[0m\u001b[1;33m\u001b[0m\u001b[1;33m\u001b[0m\u001b[0m\n\u001b[0;32m    263\u001b[0m \u001b[1;33m\u001b[0m\u001b[0m\n",
      "\u001b[1;31mIndexError\u001b[0m: Cannot choose from an empty sequence"
     ]
    }
   ],
   "source": [
    "import string\n",
    "import random\n",
    "symbols=[]\n",
    "symbols.append((string.ascii_letters))\n",
    "Card1=[0]*5\n",
    "Card2=[0]*5\n",
    "pos1=random.randint(0,4)\n",
    "pos2=random.randint(0,4)\n",
    "print(\"The selected first position is : \",pos1)\n",
    "print(\"The selected Second position is : \",pos2)\n",
    "\n",
    "#let's now choose a symbol for matching and removing it from list\n",
    "samesymbol=random.choice(symbols)\n",
    "symbols. remove(samesymbol)\n",
    "\n",
    "#if pos1 and pos2 are same symbol positions in card 1 and 2\n",
    "if(pos1==pos2):\n",
    "    Card2[pos1]=samesymbol\n",
    "    Card1[pos1]=samesymbol\n",
    "else:\n",
    "    Card1[pos1]=samesymbol\n",
    "    Card2[pos2]=samesymbol\n",
    "    Card1[pos2]=random.choice(symbols)\n",
    "    symbols. remove(card1[pos2])\n",
    "    Card2[pos1]=random.choice(symbols)\n",
    "    symbols.remove(Card2[pos1])\n",
    "#making a variable to iterate over loop\n",
    "i=0\n",
    "while(i<5):\n",
    "    if(i!=pos1 and i!=pos2):\n",
    "       alphabet1=random.choice(symbols)\n",
    "       symbols.remove(alphabet1)\n",
    "       alphabet2=random.choice(symbols)\n",
    "       symbols.remove(alphabet2)\n",
    "       Card1[i]=alphabet1\n",
    "       Card2[i]=alphabet2\n",
    "    i=i+1\n",
    "print(Card1)\n",
    "print(Card2)\n",
    "ch=input(\"Spot the similar symbol:\")\n",
    "if(ch==samesymbol):\n",
    "    print(\"Right\")\n",
    "else:\n",
    "    print(\"Wrong\")\n"
   ]
  },
  {
   "cell_type": "markdown",
   "metadata": {},
   "source": [
    "# Dobble Game"
   ]
  },
  {
   "cell_type": "code",
   "execution_count": 37,
   "metadata": {},
   "outputs": [
    {
     "name": "stdout",
     "output_type": "stream",
     "text": [
      "['i', 'E', 'C', 'g', 'D', 't', 'c', 'y']\n",
      "['o', 'H', 'I', 'd', 'W', 'V', 'h', 'C']\n",
      "Spot the similar symbol\n",
      "12\n",
      "Wrong Answer\n",
      "common symbol is {'C'}\n",
      "Do you wish to continue(y/n)?\n",
      "Y\n",
      "Thank you! Your score is  0  points\n"
     ]
    }
   ],
   "source": [
    "import random\n",
    "import string\n",
    "flag=0\n",
    "score=0\n",
    "while(flag==0):\n",
    "    l1=list(string.ascii_letters)\n",
    "    s1 = random.sample(l1, k=8)\n",
    "    for j in range(0,8):\n",
    "        l1.remove(s1[j])\n",
    "    r=random.sample(s1,k=1)\n",
    "    s2=random.sample(l1,k=7)\n",
    "    s2.extend(r)\n",
    "    random.shuffle(s2)\n",
    "    print(s1)\n",
    "    print(s2)\n",
    "    print(\"Spot the similar symbol\")\n",
    "    t=str(input())\n",
    "    check=(t in s1) and (t in s2)\n",
    "    if check is True:\n",
    "        score=score+1\n",
    "        print(\"Correct\")    \n",
    "    else :\n",
    "        print(\"Wrong Answer\")\n",
    "        s3=set(s1)\n",
    "        s4=set(s2)\n",
    "        print(\"common symbol is\",(s3.intersection(s4)))\n",
    "    print(\"Do you wish to continue(y/n)?\")\n",
    "    wish=input()\n",
    "    if(wish != 'y'):\n",
    "        flag=1\n",
    "        print(\"Thank you! Your score is \", score,\" points\")"
   ]
  },
  {
   "cell_type": "markdown",
   "metadata": {},
   "source": [
    "# Birthday Parodox"
   ]
  },
  {
   "cell_type": "code",
   "execution_count": null,
   "metadata": {},
   "outputs": [],
   "source": [
    "'''if''' year divisble by 400 '''then''' leap year\n",
    "'''else''' ''if'' year is divisible by 100 '''then''' not a leap year\n",
    "'''else''' ''if'' year is divisible by 4 '''then''' leap year\n",
    "'''else''' not a leap year\n"
   ]
  },
  {
   "cell_type": "code",
   "execution_count": null,
   "metadata": {},
   "outputs": [],
   "source": [
    "If month is febuary and year is leap year then:\n",
    "    genrate day randomly from 1 to 29<br>\n",
    "    \n",
    "If the month is February and year is not a leap year then:\n",
    "    generate day randomly from 1 to 28<br>\n",
    "   \n",
    "If the month is even and less than 7 then :\n",
    "    call month as April June and:\n",
    "        generate day randomly from 1 to 30<br>\n",
    "        \n",
    "If the month is even and greater than 7 then :\n",
    "    call month as Aug, Oct and Dec and:\n",
    "        generate day randomly from 1 to 31<br>\n",
    "\n",
    "If the month is odd and less than  or equal to 7 then :\n",
    "    call month as of Jan, March, May, July and:\n",
    "        generate day randomly from 1 to 31<br>\n",
    "        \n",
    "If the month is odd and greater than or equal to 7 then :\n",
    "    call month as Sept, Oct and:\n",
    "        generate day randomly from 1 to 31<br>"
   ]
  },
  {
   "cell_type": "code",
   "execution_count": 38,
   "metadata": {},
   "outputs": [],
   "source": [
    "import datetime # imports date time library"
   ]
  },
  {
   "cell_type": "code",
   "execution_count": null,
   "metadata": {},
   "outputs": [],
   "source": [
    "\n",
    "datetime.date.today() # prints todays date in [yyyy, mm, dd]<br>\n",
    "datetime.date.strftime(\"%Y\") #prints only year (%Y)<br>\n",
    "datetime.date.strftime(\"%B\") #prints only the month (%B)<br>\n",
    "datetime.date.strftime(\"%d\") #prints only date (%d)<br>\n",
    "datetime.datetime.now() #prints date and time of current state at instant<br>"
   ]
  },
  {
   "cell_type": "code",
   "execution_count": null,
   "metadata": {},
   "outputs": [],
   "source": [
    "print(\"Week No Of Today\",datetime.date.today().strftime(\"%W\"))   # prints week no of current day (%W)<br>\n",
    "print(\"Weekday of the week\",datetime.date.today().strftime(\"%w\"))#prints week day of the week for given query (%w)<br>\n",
    "print(\"Day of year\",datetime.date.today().strftime(\"%j\"))        #prints day of year (%j)<br>\n",
    "print(\"Day of week\",datetime.date.today().strftime(\"%A\"))        #prints day of week (%A)<br>"
   ]
  },
  {
   "cell_type": "code",
   "execution_count": null,
   "metadata": {},
   "outputs": [],
   "source": [
    "# Birthday Twin(Program to print no of reoccurence of birthdays)\n",
    "\n",
    "import DateTime\n",
    "import random\n",
    "\n",
    "birthday=[]  #creating list with []\n",
    "i=0 # assining a var for loop\n",
    "while(i<50):  # running a while loop until 1<50\n",
    "    year=random.randint(1877,2019) # becuase macx person was 142 yrs\n",
    "# leap year program\n",
    "#(years)\n",
    "    if(year%4==0 and year%100 !=0 or year%400==0):\n",
    "        leap=1\n",
    "    else:\n",
    "        leap=0\n",
    "#months\n",
    "        month=random.randint(1,12)\n",
    "#day<nested if else>\n",
    "        if(month==2 and leap==1): # for days in feb , leap year\n",
    "            day=random.randint(1,29)\n",
    "        elif(month==2 and leap==0):#for days in feb , not leap year\n",
    "            day=random.randint(1,28) \n",
    "        elif(month==7 or month==8):#for days in july and aug\n",
    "            day=random.randint(1,31)\n",
    "        elif(month%2!=0 and month<7):#for days in  Aug, Oct and Dec\n",
    "            day=random.randint(1,31)\n",
    "        elif(month%2==0 and month>7 and month<12):\n",
    "            day=random.randint(1,31)\n",
    "        else:\n",
    "            day=random.randint(1,30) #for days in Jan, March , May, July\n",
    "            \n",
    "# printing in the specified format\n",
    "\n",
    "        dd=datetime.date(year,month, day) # setting variable dd for right format using date time library\n",
    "        day_of_year=dd.timetuple().tm_yday # prints day of year\n",
    "        i=1+1 # incrementing loop and adding new element\n",
    "        birthday.append(day_of_year) # appending to bithday list\n",
    "        \n",
    "birthday.sort() #sorting list\n",
    "i=0 # intiating variable as 0\n",
    "while(i<50): #printing 50 people values in a row order\n",
    "    print(birthday[i])\n",
    "    i=i+1\n"
   ]
  },
  {
   "cell_type": "markdown",
   "metadata": {},
   "source": [
    "# Guess the Movie Name"
   ]
  },
  {
   "cell_type": "code",
   "execution_count": null,
   "metadata": {},
   "outputs": [],
   "source": [
    "#importing the random module<br>\n",
    "import random"
   ]
  },
  {
   "cell_type": "markdown",
   "metadata": {},
   "source": [
    "# creating a list of movies<br>\n",
    "movies=['anbe sivan','nayakan','wanted','vikram vedha','black fiday','dangal','manichithrathazhu','gol maal','terminator','anand']\n"
   ]
  },
  {
   "cell_type": "markdown",
   "metadata": {},
   "source": [
    "# Create Function For asking Question"
   ]
  },
  {
   "cell_type": "code",
   "execution_count": null,
   "metadata": {},
   "outputs": [],
   "source": [
    "def create_question(movie):#defining question function\n",
    "                           #use: making the hidden name of movie.\n",
    "                           #ex: 3 idiots :- * ******\n",
    "\n",
    "    n=len(movie)\n",
    "    letters=list(movie)\n",
    "    temp=[]\n",
    "#what actually we gonna do is, if there is space in movie name then it should not be converted else converted to (*)\n",
    "    for i in range(n):\n",
    "        if letters[i]==\" \":\n",
    "            temp.append(\" \")\n",
    "        else:\n",
    "            temp.append(\"*\")\n",
    "\n",
    "#Below code just separate (*) so it looks good,\n",
    "#Ex: 3 idiots => * ****** => *  * * * * * *  \n",
    "    qn=\" \".join(str(x) for x in temp)\n",
    "\n",
    "    return qn"
   ]
  },
  {
   "cell_type": "markdown",
   "metadata": {},
   "source": [
    "# Create Function For Guessed Letter\n"
   ]
  },
  {
   "cell_type": "code",
   "execution_count": null,
   "metadata": {},
   "outputs": [],
   "source": [
    "def is_present(letter,movie):#defining the function-(if the guessed letter is present)\n",
    "\n",
    "    c=movie.count(letter)\n",
    "\n",
    "    if c==0:\n",
    "\n",
    "        return False\n",
    "\n",
    "    else:\n",
    "\n",
    "        return True"
   ]
  },
  {
   "cell_type": "markdown",
   "metadata": {},
   "source": [
    "# Create Function To Unlock The Letters"
   ]
  },
  {
   "cell_type": "code",
   "execution_count": null,
   "metadata": {},
   "outputs": [],
   "source": [
    "def unlock(qn,movie,letter):#unlocking the letters\n",
    "                            #use: if the given letter is present in the hidden movie,\n",
    "                            #the hidden movie would show that letter.\n",
    "                            #EX: 3 idiot => * ****** => \n",
    "                            #Guess: i => * i*i** => please note there are 2 (i) in the movie which is revealed \n",
    "    \n",
    "    ref=list(movie)\n",
    "    qn_list=list(qn)\n",
    "    temp=[]\n",
    "    n=len(movie)\n",
    "    \n",
    "    for i in range(n):\n",
    "        if ref[i]==\" \" or ref[i]==letter:\n",
    "            temp.append(ref[i])\n",
    "        else:\n",
    "            if qn_list[i]==\"*\":\n",
    "                temp.append(\"*\")\n",
    "            else:\n",
    "                temp.append(ref[i])\n",
    "    \n",
    "    qn_new=\" \".join(str(x) for x in temp)\n",
    "    return qn_new"
   ]
  },
  {
   "cell_type": "markdown",
   "metadata": {},
   "source": [
    "# Create Function Play (Main Game function)"
   ]
  },
  {
   "cell_type": "code",
   "execution_count": null,
   "metadata": {},
   "outputs": [],
   "source": [
    "def play():#getting the player names as input\n",
    "\n",
    "    p1name=input(\"player 1: please enter your name:\")\n",
    "\n",
    "    p2name=input(\"player 2: please enter your name:\")\n",
    "\n",
    "    pp1=0 #initialising the required variables\n",
    "\n",
    "    #points of the player\n",
    "\n",
    "    pp2=0\n",
    "\n",
    "    #players-turn\n",
    "\n",
    "    turn=0\n",
    "\n",
    "    #if the game is to be continued\n",
    "\n",
    "    willing=True\n",
    "\n",
    "    while willing:\n",
    "\n",
    "        #checking if the turn if odd or even\n",
    "\n",
    "        if turn%2==0:\n",
    "\n",
    "            #player 1\n",
    "\n",
    "            print(p1name,\"Your turn\")\n",
    "\n",
    "            #picking a random movie\n",
    "\n",
    "            picked_movie=random.choice(movies)\n",
    "\n",
    "            qn=create_question(picked_movie)\n",
    "\n",
    "            print(qn)\n",
    "\n",
    "            modified_qn=qn\n",
    "\n",
    "            not_said=True\n",
    "\n",
    "            while not_said:\n",
    "\n",
    "                letter=input(\"Enter a letter:\")\n",
    "\n",
    "                if(is_present(letter,picked_movie)):\n",
    "\n",
    "                    #unlocking the blanks\n",
    "\n",
    "                    modified_qn=unlock(modified_qn,picked_movie,letter)\n",
    "\n",
    "                    print(modified_qn)\n",
    "\n",
    "                    d=int(input(\"Press 1 to guess the movie or 2 to unlock another letter:\"))\n",
    "\n",
    "                    if d==1:\n",
    "\n",
    "                        ans=input(\"Your answer:\")\n",
    "\n",
    "                        if ans==picked_movie:\n",
    "\n",
    "                            pp1=pp1+1\n",
    "\n",
    "                            print(\"Correct\")\n",
    "\n",
    "                            not_said=False\n",
    "\n",
    "                            print(p1name,\"Your score:\",pp1)\n",
    "\n",
    "                        else:\n",
    "\n",
    "                            print(\"Wrong answer, Try again:\")       \n",
    "\n",
    "                else:\n",
    "\n",
    "                    print(letter,\"not found\")\n",
    "\n",
    "            c=input(\"Press 1 to continue or 0 to quit\")\n",
    "\n",
    "            if c==0:\n",
    "\n",
    "                print(p1name,\"Your Score:\",pp1)\n",
    "\n",
    "                print(p2name,\"Your Score:\",pp2)\n",
    "\n",
    "                print(\"Thanks for playing\")\n",
    "\n",
    "                print(\" Have a great day!!!!\")\n",
    "\n",
    "                willing=False\n",
    "\n",
    "        else:\n",
    "\n",
    "            #player 2\n",
    "\n",
    "            print(p1name,\"Your turn\")\n",
    "\n",
    "            #picking a random movie\n",
    "\n",
    "            picked_movie=random.choice(movies)\n",
    "\n",
    "            qn=create_question(picked_movie)\n",
    "\n",
    "            print(qn)\n",
    "\n",
    "            modified_qn=qn\n",
    "\n",
    "            not_said=True\n",
    "\n",
    "            while not_said:\n",
    "\n",
    "                letter=input(\"Enter a letter:\")\n",
    "\n",
    "                if(is_present(letter,picked_movie)):\n",
    "\n",
    "                    #unlocking the blanks\n",
    "\n",
    "                    modified_qn=unlock(modified_qn,picked_movie,letter)\n",
    "\n",
    "                    print(modified_qn)\n",
    "\n",
    "                    d=int(input(\"Press 1 to guess the movie or 2 to unlock another letter:\"))\n",
    "\n",
    "                    if d==1:\n",
    "\n",
    "                        ans=input(\"Your answer:\")\n",
    "\n",
    "                        if ans==picked_movie:\n",
    "\n",
    "                            pp2=pp2+1\n",
    "\n",
    "                            print(\"Correct\")\n",
    "\n",
    "                            not_said=False\n",
    "\n",
    "                            print(p2name,\"Your score:\",pp2)\n",
    "\n",
    "                        else:\n",
    "\n",
    "                            print(\"wrong answer, Try again:\")\n",
    "\n",
    "                else:\n",
    "\n",
    "                    print(letter,\"not found\")\n",
    "\n",
    "            c=input(\"Press 1 to continue or 0 to quit\")\n",
    "\n",
    "            if c==0:\n",
    "\n",
    "                print(p1name,\"Your Score:\",pp1)\n",
    "\n",
    "                print(p2name,\"Your Score:\",pp2)\n",
    "\n",
    "                print(\"Thanks for playing\")\n",
    "\n",
    "                print(\" Have a great day!!!!\")\n",
    "\n",
    "                willing=False\n",
    "  #incrmenting the turn\n",
    "\n",
    "            turn=turn+1"
   ]
  },
  {
   "cell_type": "markdown",
   "metadata": {},
   "source": [
    "# Calling Function Play"
   ]
  },
  {
   "cell_type": "code",
   "execution_count": null,
   "metadata": {},
   "outputs": [],
   "source": [
    "#calling the function-play(br)\n",
    "play()"
   ]
  },
  {
   "cell_type": "markdown",
   "metadata": {},
   "source": [
    "# Python code(Merging All):"
   ]
  },
  {
   "cell_type": "code",
   "execution_count": null,
   "metadata": {},
   "outputs": [
    {
     "name": "stdout",
     "output_type": "stream",
     "text": [
      "player 1: please enter your name:SIRAJ\n",
      "player 2: please enter your name:KAJAL\n",
      "SIRAJ Your turn\n",
      "* * *   * * * *\n",
      "Enter a letter:T\n",
      "T not found\n",
      "Enter a letter:A\n",
      "A not found\n",
      "Enter a letter:FG\n",
      "FG not found\n",
      "Enter a letter:R\n",
      "R not found\n",
      "Enter a letter:W\n",
      "W not found\n",
      "Enter a letter:O\n",
      "O not found\n",
      "Enter a letter:P\n",
      "P not found\n",
      "Enter a letter:N\n",
      "N not found\n",
      "Enter a letter:M\n",
      "M not found\n",
      "Enter a letter:Q\n",
      "Q not found\n",
      "Enter a letter:W\n",
      "W not found\n",
      "Enter a letter:S\n",
      "S not found\n",
      "Enter a letter:X\n",
      "X not found\n",
      "Enter a letter:X\n",
      "X not found\n",
      "Enter a letter:CX\n",
      "CX not found\n",
      "Enter a letter:B\n",
      "B not found\n",
      "Enter a letter:,\n",
      ", not found\n",
      "Enter a letter:M\n",
      "M not found\n",
      "Enter a letter:M\n",
      "M not found\n",
      "Enter a letter:M,\n",
      "M, not found\n",
      "Enter a letter:M\n",
      "M not found\n",
      "Enter a letter:,\n",
      ", not found\n",
      "Enter a letter:M\n",
      "M not found\n",
      "Enter a letter:M\n",
      "M not found\n",
      "Enter a letter:,\n",
      ", not found\n"
     ]
    }
   ],
   "source": [
    "#importing the random module\n",
    "import random\n",
    "#creating a list of movies\n",
    "movies=['anbe sivan','nayakan','wanted','vikram vedha','black fiday','dangal','manichithrathazhu','gol maal','terminator','anand']\n",
    "def create_question(movie):#defining question function\n",
    "    n=len(movie)\n",
    "    letters=list(movie)\n",
    "    temp=[]\n",
    "    for i in range(n):\n",
    "        if letters[i]==\" \":\n",
    "            temp.append(\" \")\n",
    "        else:\n",
    "            temp.append(\"*\")\n",
    "    qn=\" \".join(str(x) for x in temp)\n",
    "    return qn\n",
    "def is_present(letter,movie):#defining the function-(if the guessed letter is present)\n",
    "    c=movie.count(letter)\n",
    "    if c==0:\n",
    "        return False\n",
    "    else:\n",
    "        return True\n",
    "def unlock(qn,movie,letter):#unlocking the letters\n",
    "    ref=list(movie)\n",
    "    qn_list=list(qn)\n",
    "    temp=[]\n",
    "    n=len(movie)\n",
    "    for i in range(n):\n",
    "        if ref[i]==\" \" or ref[i]==letter:\n",
    "            temp.append(ref[i])\n",
    "        else:\n",
    "            if qn_list[i]==\"*\":\n",
    "                temp.append(\"*\")\n",
    "            else:\n",
    "                temp.append(ref[i])\n",
    "    qn_new=\" \".join(str(x) for x in temp)\n",
    "    return qn_new\n",
    "\n",
    "#defining guess the movie-game function\n",
    "def play():#getting the player names as input\n",
    "    p1name=input(\"player 1: please enter your name:\")\n",
    "    p2name=input(\"player 2: please enter your name:\")\n",
    "    pp1=0 #initialising the required variables\n",
    "    #points of the player\n",
    "    pp2=0\n",
    "    #players-turn\n",
    "    turn=0\n",
    "    #if the game is to be continued\n",
    "    willing=True\n",
    "    while willing:\n",
    "        #checking if the turn if odd or even\n",
    "        if turn%2==0:\n",
    "            #player 1\n",
    "            print(p1name,\"Your turn\")\n",
    "            #picking a random movie\n",
    "            picked_movie=random.choice(movies)\n",
    "            qn=create_question(picked_movie)\n",
    "            print(qn)\n",
    "            modified_qn=qn\n",
    "            not_said=True\n",
    "            while not_said:\n",
    "                letter=input(\"Enter a letter:\")\n",
    "                if(is_present(letter,picked_movie)):\n",
    "                    #unlocking the blanks\n",
    "                    modified_qn=unlock(modified_qn,picked_movie,letter)\n",
    "                    print(modified_qn)\n",
    "                    d=int(input(\"Press 1 to guess the movie or 2 to unlock another letter:\"))\n",
    "                    if d==1:\n",
    "                        ans=input(\"Your answer:\")\n",
    "                        if ans==picked_movie:\n",
    "                            pp1=pp1+1\n",
    "                            print(\"Correct\")\n",
    "                            not_said=False\n",
    "                            print(p1name,\"Your score:\",pp1)\n",
    "                        else:\n",
    "                            print(\"Wrong answer, Try again:\")       \n",
    "                else:\n",
    "                    print(letter,\"not found\")\n",
    "            c=input(\"Press 1 to continue or 0 to quit\")\n",
    "            if c==0:\n",
    "                print(p1name,\"Your Score:\",pp1)\n",
    "                print(p2name,\"Your Score:\",pp2)\n",
    "                print(\"Thanks for playing\")\n",
    "                print(\" Have a great day!!!!\")\n",
    "                willing=False\n",
    "        else:\n",
    "            #player 2\n",
    "            print(p1name,\"Your turn\")\n",
    "            #picking a random movie\n",
    "            picked_movie=random.choice(movies)\n",
    "            qn=create_question(picked_movie)\n",
    "            print(qn)\n",
    "            modified_qn=qn\n",
    "            not_said=True\n",
    "            while not_said:\n",
    "                letter=input(\"Enter a letter:\")\n",
    "                if(is_present(letter,picked_movie)):\n",
    "                    #unlocking the blanks\n",
    "                    modified_qn=unlock(modified_qn,picked_movie,letter)\n",
    "                    print(modified_qn)\n",
    "                    d=int(input(\"Press 1 to guess the movie or 2 to unlock another letter:\"))\n",
    "                    if d==1:\n",
    "                        ans=input(\"Your answer:\")\n",
    "                        if ans==picked_movie:\n",
    "                            pp2=pp2+1\n",
    "                            print(\"Correct\")\n",
    "                            not_said=False\n",
    "                            print(p2name,\"Your score:\",pp2)\n",
    "                        else:\n",
    "                            print(\"Wrong answer, Try again:\")\n",
    "                else:\n",
    "                    print(letter,\"not found\")\n",
    "            c=input(\"Press 1 to continue or 0 to quit\")\n",
    "            if c==0:\n",
    "                print(p1name,\"Your Score:\",pp1)\n",
    "                print(p2name,\"Your Score:\",pp2)\n",
    "                print(\"Thanks for playing\")\n",
    "                print(\" Have a great day!!!!\")\n",
    "                willing=False\n",
    "        #incrmenting the turn\n",
    "            turn=turn+1\n",
    "#calling the function-play\n",
    "play()\n"
   ]
  },
  {
   "cell_type": "markdown",
   "metadata": {},
   "source": [
    "# DICTINORY"
   ]
  },
  {
   "cell_type": "code",
   "execution_count": null,
   "metadata": {},
   "outputs": [],
   "source": [
    "Dict['Payaya']= 120 # assing values , note name['key']=value, ' ' is mandatory\n",
    "print(Dict)<br>"
   ]
  },
  {
   "cell_type": "code",
   "execution_count": null,
   "metadata": {},
   "outputs": [],
   "source": [
    "smartphone = {\"brand\": \"mi\",  \"model\": \"Note 7 Pro\",  \"year\": 2019}"
   ]
  },
  {
   "cell_type": "markdown",
   "metadata": {},
   "source": [
    "# Accessing, deleting and printing elements of a Dictionary"
   ]
  },
  {
   "cell_type": "code",
   "execution_count": null,
   "metadata": {},
   "outputs": [],
   "source": [
    "telephoneBook={'Neha':8352226,'Nidhi':8312653,'Sanath':8766312} #define a Dictionary telephoneBook\n",
    "print(\"Telephone Directory\")\n",
    "print(telephoneBook) #display all the records of telephoneBook\n",
    "print(\"Contact Number of Neha\")\n",
    "print(telephoneBook['Neha']) #display the contact number of Neha\n",
    "telephoneBook['Swaroopa']=80234564 #add one more record to the telephoneBook\n",
    "print(\"Telephone Directory after adding Swaroopa\")\n",
    "print(telephoneBook) #display all the records of telephoneBook after adding Swaroopa\n",
    "telephoneBook.update({'Sujatha':8764456}) #add a new record by using update method\n",
    "print(\"Telephone Directory after adding Sujatha\") \n",
    "print(telephoneBook) #display all the records of telephoneBook after adding Sujatha\n",
    "del telephoneBook['Neha'] #deleting an element\n",
    "print(\"Telephone Directory after deleting Neha\")\n",
    "print(telephoneBook) #display all the records of telephoneBook afterdeleting Neha"
   ]
  },
  {
   "cell_type": "markdown",
   "metadata": {},
   "source": [
    "# Functions"
   ]
  },
  {
   "cell_type": "code",
   "execution_count": null,
   "metadata": {},
   "outputs": [],
   "source": [
    "<br>\n",
    "#(in-console window)<br>\n",
    "Dict.keys() # Displays all keys present in dictonary<br>\n",
    "list(Dict.keys()) # shows keys as list <br>\n",
    "list(Dict.values()) # shows values as list<br>\n",
    "Dict.items() # Fetches all itmes in dictonary ans show them as tuples(constant/fix values)<br>\n",
    "Dict.items? #Shows the help menu for items(works only in console window)<br>\n",
    "del Dict['Key'] # deletes the key present in te dictonary, ere Dict=Dictonary Name<br> \n",
    "Dict.copy() # copy dictonary <br>"
   ]
  },
  {
   "cell_type": "markdown",
   "metadata": {},
   "source": [
    "# Speech Recognition\n",
    "INSTALLATION OF SPEECH RECOGNITION"
   ]
  },
  {
   "cell_type": "code",
   "execution_count": null,
   "metadata": {},
   "outputs": [],
   "source": [
    "<br>\n",
    "# NOTE:- One need to be connected to internet while installing libraries for fetching it from server<br> \n",
    "'''pip install SpeechRecognition'''  #if you using normal python terminal/editor other than Anaconda<br>\n",
    "'''conda install -c conda-forge speechrecognition''' # if using editor as Anaconda<br>\n",
    "'''conda install -c conda-forge/label/cf201901 speechrecognition''' # use if 1st one fails<br>\n"
   ]
  },
  {
   "cell_type": "markdown",
   "metadata": {},
   "source": [
    "# SYNTAX"
   ]
  },
  {
   "cell_type": "code",
   "execution_count": null,
   "metadata": {},
   "outputs": [],
   "source": [
    "import speech_recognition as sr #importing speech recognisation<br>\n",
    "\n",
    "Audio_file=(\"sample_viah.wav\")# Use audio file(viah) as source<br>\n",
    "\n",
    "r = sr.Recognizer() # intialise speech regoniser<br>\n",
    "with sr.AudioFile(Audio_file) as source:\n",
    "    audio=r.record(source) # reads audio file\n",
    "    \n",
    "try:\n",
    "    print(\"Speech Recognistion Sucessfull. The file Contained\" + r.recognize_google(audio)) #converts spoken word to text<br>\n",
    "except sr.UnknownValueError: #If unable to understand audio<br>\n",
    "    print(\"Google Speech Recognition Could Not Understand Audio \")\n",
    "except sr.RequestError:#If unable to fetch results from server og google speech API<br>\n",
    "    print(\"Unable to Fetch Results\")"
   ]
  },
  {
   "cell_type": "markdown",
   "metadata": {},
   "source": [
    "# Monte Hall Game"
   ]
  },
  {
   "cell_type": "code",
   "execution_count": null,
   "metadata": {},
   "outputs": [],
   "source": [
    "<br>\n",
    "# Excerpt from letter<br>\n",
    "''Suppose you're on a game show, and you're given the choice of three doors: Behind one door is a car; behind the others, goats.<br>\n",
    "You pick a door, say No. 1, and the host, who knows what's behind the doors, opens another door, say No.<br>\n",
    "3, which has a goat. He then says to you, \"Do you want to pick door No. 2?\".''<br>\n",
    "'''Is it to your advantage to switch your choice?'''<br>"
   ]
  },
  {
   "cell_type": "markdown",
   "metadata": {},
   "source": [
    "# SYNTAX"
   ]
  },
  {
   "cell_type": "code",
   "execution_count": null,
   "metadata": {},
   "outputs": [],
   "source": [
    "<br>\n",
    "# Monte Hall (Code)<br>\n",
    "''' The Monty Hall problem is a counter-intuitive statistics puzzle:\n",
    "\n",
    "    There are 3 doors, behind which are two goats and a car.\n",
    "    You pick a door (call it door A). You’re hoping for the car of course.\n",
    "    Monty Hall, the game show host, examines the other doors (B & C) and opens one with a goat. \n",
    "    (If both doors have goats, he picks randomly.)\n",
    "\n",
    "Here’s the game:\n",
    "    Do you stick with door A (original guess) or switch to the unopened door? Does it matter?\n",
    "    Surprisingly, the odds aren’t 50-50. If you switch doors you’ll win 2/3 of the time!'''\n",
    "\n",
    "#List for door and goats door\n",
    "doors=[0]*3\n",
    "goat_doors=[0]*2\n",
    "#counter to track wether to swap or not\n",
    "swap=0\n",
    "dont_swap=0\n",
    "# track\n",
    "track=0\n",
    "while(track<3): #looping till 3 , ends when 3 rounds complete\n",
    "#Importing random variables from range 0,2 as 3 will count as 3 in index\n",
    "    import random\n",
    "    x=random.randint(0,2) # xth door will have bmw\n",
    "#doors configuaration\n",
    "    doors[x]=\"BMW\" \n",
    "#goat door\n",
    "    for i in range(0,3): # 0,3 is taken in account as it will exclude 3rd door as it will be 4th door\n",
    "        if (i==x): # if given door is bmw(xth) door\n",
    "            continue   # go to the strart of loop and increment i\n",
    "        else:\n",
    "            doors[i]=\"goat\" #door at ith position is goat door\n",
    "            goat_doors.append(i) #so append door to particular index i here\n",
    "# let user input the choice\n",
    "    choice=int(input(\"Please Enter Your Choice: \"))\n",
    "# open the door\n",
    "    door_open=random.choice(goat_doors) # here only those doors will open which has a goat , if it has prize game will start again\n",
    "#door opened should not be the same made by the participants\n",
    "    while(door_open==choice):\n",
    "        door_open=random.choice(goat_doors)\n",
    "#after 1st time door opens , user given choice to swap   \n",
    "    choice1=input(\"Do You Want To Swap Y/N: \")\n",
    "# if player swaps and doors are same as goat door then swap it as one goat door is already opened and 2nd one has a goat , but if player sap then he will get BMW\n",
    "    if(choice1==\"Y\"):\n",
    "        if (doors[choice]=='Goat'):\n",
    "            print(\"Congrats You Won\") # he wins\n",
    "            swap=swap+1 # swap counter is incremented\n",
    "        else: # if player selected BMW and swap he looses\n",
    "            print(\"Sorry Better Luck Next Time!\") \n",
    "    else:# if the player chooses not to swap and he still continues with the goat he loses if not he swaps at second one he wins\n",
    "        if(doors[choice=='Goat']):\n",
    "            print(\"You Lost\")\n",
    "        else:\n",
    "            print(\"Congrats, You Won!\")\n",
    "            dont_swap=dont_swap+1\n",
    "            \n",
    "    track=track+1    #increment the loop to end\n",
    "    \n",
    "print(swap) # print no of swap wins\n",
    "print(dont_swap) #print no of don't swap wins"
   ]
  },
  {
   "cell_type": "markdown",
   "metadata": {},
   "source": [
    "# ROCK PAPER SCISSOR"
   ]
  },
  {
   "cell_type": "code",
   "execution_count": null,
   "metadata": {},
   "outputs": [],
   "source": [
    "<br>\n",
    "def rock_paper_scissor(num1,num2,bit1,bit2):\n",
    "    p1=int(num1[bit1])%3\n",
    "    p2=int(num2[bit2])%3\n",
    "    if(player_one1[p1]==player_two2[p2}]):\n",
    "      print(\"Draw\")\n",
    "    elif(player_one1[p1]==\"Rock\" and player_two2[P2]==\"Scissor\"):\n",
    "      print(\"Player one wins!!!\")\n",
    "    elif(player_one1[p1]==\"Rock\" and player_two2[P2]==\"paper\"):\n",
    "      print(\"Player two wins!!!\")\n",
    "    elif(player_one1[p1]==\"Paper\" and player_two2[P2]==\"Scissor\"):\n",
    "      print(\"Player two wins!!!\")\n",
    "    elif(player_one1[p1]==\"Paper\" and player_two2[P2]==\"Rock\"):\n",
    "      print(\"Player one wins!!!\")\n",
    "    elif(player_one1[p1]==\"Scissor\" and player_two2[P2]==\"Rock\"):\n",
    "      print(\"Player two wins!!!\")\n",
    "    elif(player_one1[p1]==\"Scissor\" and player_two2[P2]==\"Paper\"):\n",
    "      print(\"Player one wins!!!\")\n",
    "player_one1={0:'Rock',1:'Paper',2:'Scissor'}\n",
    "player_two2={0:'Paper',1:'Rock',2:'Scissor'}\n",
    "while(1):\n",
    "    num1=input(\"Player one, Enter your choice\")\n",
    "    num2=input(\"Player two, Enter your choice\")\n",
    "    bit1=int(input(\"Player one, Enter your secret bit position\"))\n",
    "    bit2=int(input(\"Player two, Enter your secret bit position\"))\n",
    "    rock_paper_scissor(num1,num2,bit1,bit2)\n",
    "    ch=input(\"Do you wanna continue your game or quit now? y/n\")\n",
    "    if(ch=='n'):\n",
    "      print(\"Hope you people enjoyed a lot by this game bye..!!\")\n",
    "      break"
   ]
  },
  {
   "cell_type": "code",
   "execution_count": null,
   "metadata": {},
   "outputs": [],
   "source": []
  }
 ],
 "metadata": {
  "kernelspec": {
   "display_name": "Python 3",
   "language": "python",
   "name": "python3"
  },
  "language_info": {
   "codemirror_mode": {
    "name": "ipython",
    "version": 3
   },
   "file_extension": ".py",
   "mimetype": "text/x-python",
   "name": "python",
   "nbconvert_exporter": "python",
   "pygments_lexer": "ipython3",
   "version": "3.7.3"
  }
 },
 "nbformat": 4,
 "nbformat_minor": 2
}
