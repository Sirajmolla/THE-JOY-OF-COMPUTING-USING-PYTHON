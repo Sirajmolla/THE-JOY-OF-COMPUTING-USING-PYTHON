{
 "cells": [
  {
   "cell_type": "code",
   "execution_count": 5,
   "metadata": {},
   "outputs": [
    {
     "name": "stdout",
     "output_type": "stream",
     "text": [
      "[' ', '!', 'A', 'H', 'I', 'a', 'b', 'h', 'i', 'm', 't']\n"
     ]
    }
   ],
   "source": [
    "string1=\"HI! Amitabh\"\n",
    "print(sorted(string1))"
   ]
  },
  {
   "cell_type": "code",
   "execution_count": null,
   "metadata": {},
   "outputs": [
    {
     "name": "stdout",
     "output_type": "stream",
     "text": [
      "Enter a number from 1 to 101\n",
      "Enter a number from 1 to 102\n",
      "Enter a number from 1 to 103\n",
      "Enter a number from 1 to 104\n",
      "Enter a number from 1 to 107\n",
      "Enter a number from 1 to 108\n",
      "Enter a number from 1 to 109\n",
      "Enter a number from 1 to 108\n",
      "Enter a number from 1 to 107\n"
     ]
    }
   ],
   "source": [
    "import random\n",
    "def play():\n",
    "    a=input(\"Enter a number from 1 to 10\")\n",
    "    r=random.randint(1,10)\n",
    "    if(a==r):\n",
    "        return 1\n",
    "    else:\n",
    "        return 0\n",
    "amt=0\n",
    "for i in range(1,366):\n",
    "    amt=amt+play()\n",
    "print(amt)"
   ]
  },
  {
   "cell_type": "code",
   "execution_count": null,
   "metadata": {},
   "outputs": [],
   "source": [
    "import random\n",
    "def play():\n",
    "    amt=0\n",
    "    for i in range(0,100):\n",
    "        r=random.uniform(0,1)\n",
    "        if(r<0.5):\n",
    "            amt=amt+1\n",
    "        return amt\n",
    "s=0\n",
    "for i in range(0,100):\n",
    "    s=s+play()/100\n",
    "print(s)"
   ]
  },
  {
   "cell_type": "code",
   "execution_count": 9,
   "metadata": {},
   "outputs": [
    {
     "data": {
      "image/png": "[encoded data removed]",
      "text/plain": [
       "<Figure size 432x288 with 1 Axes>"
      ]
     },
     "metadata": {
      "needs_background": "light"
     },
     "output_type": "display_data"
    }
   ],
   "source": [
    "import random\n",
    "import matplotlib.pyplot as plt \n",
    "def play():\n",
    "    amt=0\n",
    "    for i in range(0,100):\n",
    "        r=random.randint(1,1000)\n",
    "        if(r!=random.randint(1,1000)):\n",
    "            amt=amt\n",
    "        else:\n",
    "            amt=amt+1000\n",
    "    return amt\n",
    "l=[]\n",
    "for j in range(0,100):\n",
    "    s=0\n",
    "    for i in range(0,100):\n",
    "        s=s+play()\n",
    "    l.append(s)\n",
    "x=[]\n",
    "y=[]\n",
    "for each in list(set(l)):\n",
    "    x.append(each)\n",
    "    y.append(l.count(each))\n",
    "plt.plot(x,y,'ro')\n",
    "plt.show()"
   ]
  },
  {
   "cell_type": "code",
   "execution_count": 3,
   "metadata": {},
   "outputs": [
    {
     "data": {
      "image/png": "[encoded data removed]",
      "text/plain": [
       "<Figure size 432x288 with 1 Axes>"
      ]
     },
     "metadata": {
      "needs_background": "light"
     },
     "output_type": "display_data"
    }
   ],
   "source": [
    "import random\n",
    "import matplotlib.pyplot as plt\n",
    "def play():\n",
    "    amt=0\n",
    "    for i in range(0,100):\n",
    "        r=random.randint(1,6)\n",
    "        amt=amt+r\n",
    "    return amt\n",
    "l=[]\n",
    "for j in range(0,100):\n",
    "    s=0\n",
    "    for i in range(0,100):\n",
    "        s=s+play()\n",
    "    l.append(s)\n",
    "x=[]\n",
    "y=[]\n",
    "for each in list(set(l)):\n",
    "    x.append(each)\n",
    "    y.append(l.count(each))\n",
    "plt.plot(x,y,'ro')\n",
    "plt.show()"
   ]
  },
  {
   "cell_type": "code",
   "execution_count": 6,
   "metadata": {},
   "outputs": [
    {
     "ename": "TypeError",
     "evalue": "'dict_values' object does not support item assignment",
     "output_type": "error",
     "traceback": [
      "\u001b[1;31m---------------------------------------------------------------------------\u001b[0m",
      "\u001b[1;31mTypeError\u001b[0m                                 Traceback (most recent call last)",
      "\u001b[1;32m<ipython-input-6-3d8c92b5ca7c>\u001b[0m in \u001b[0;36m<module>\u001b[1;34m\u001b[0m\n\u001b[0;32m      6\u001b[0m \u001b[0mdict1\u001b[0m\u001b[1;33m=\u001b[0m\u001b[0mdict_age\u001b[0m\u001b[1;33m\u001b[0m\u001b[1;33m\u001b[0m\u001b[0m\n\u001b[0;32m      7\u001b[0m \u001b[0ml\u001b[0m\u001b[1;33m=\u001b[0m\u001b[0mdict_age\u001b[0m\u001b[1;33m.\u001b[0m\u001b[0mvalues\u001b[0m\u001b[1;33m(\u001b[0m\u001b[1;33m)\u001b[0m\u001b[1;33m\u001b[0m\u001b[1;33m\u001b[0m\u001b[0m\n\u001b[1;32m----> 8\u001b[1;33m \u001b[0ml\u001b[0m\u001b[1;33m[\u001b[0m\u001b[1;36m0\u001b[0m\u001b[1;33m]\u001b[0m\u001b[1;33m=\u001b[0m\u001b[1;36m90\u001b[0m\u001b[1;33m\u001b[0m\u001b[1;33m\u001b[0m\u001b[0m\n\u001b[0m\u001b[0;32m      9\u001b[0m \u001b[0mprint\u001b[0m\u001b[1;33m(\u001b[0m\u001b[0ml\u001b[0m\u001b[1;33m)\u001b[0m\u001b[1;33m\u001b[0m\u001b[1;33m\u001b[0m\u001b[0m\n",
      "\u001b[1;31mTypeError\u001b[0m: 'dict_values' object does not support item assignment"
     ]
    }
   ],
   "source": [
    "dict_age={}\n",
    "dict_age[\"Arun\"]=20\n",
    "dict_age[\"Bhima\"]=10\n",
    "dict_age[\"Chirag\"]=40\n",
    "dict_age[\"Deepak\"]=30\n",
    "dict1=dict_age\n",
    "l=dict_age.values()\n",
    "l[0]=90\n",
    "print(l)"
   ]
  },
  {
   "cell_type": "code",
   "execution_count": 7,
   "metadata": {},
   "outputs": [
    {
     "name": "stdout",
     "output_type": "stream",
     "text": [
      "{'Arun': 20, 'Bhima': 30, 'Chirag': 70, 'Deepak': 100}\n",
      "68\n",
      "Give all money to Chirag\n"
     ]
    }
   ],
   "source": [
    "import random\n",
    "dict_age={}\n",
    "dict_age[\"Arun\"]=20\n",
    "dict_age[\"Bhima\"]=10\n",
    "dict_age[\"Chirag\"]=40\n",
    "dict_age[\"Deepak\"]=30\n",
    "l=list(dict_age.values())\n",
    "dict1={}\n",
    "l_name=dict_age.keys()\n",
    "i=0\n",
    "prev=0\n",
    "for each in dict_age:\n",
    "    dict1[each]=prev+l[i]\n",
    "    prev=dict1[each]\n",
    "    i=i+1\n",
    "print(dict1)\n",
    "r=random.randint(0,sum(dict_age.values()))\n",
    "print(r)\n",
    "for each in dict1:\n",
    "    if(r<dict1[each]):\n",
    "        print(\"Give all money to\",each)\n",
    "        break"
   ]
  },
  {
   "cell_type": "code",
   "execution_count": 8,
   "metadata": {},
   "outputs": [
    {
     "name": "stdout",
     "output_type": "stream",
     "text": [
      "Give all money to Chirag\n"
     ]
    }
   ],
   "source": [
    "import random\n",
    "import operator\n",
    "dict_age={}\n",
    "dict_age[\"Arun\"]=20\n",
    "dict_age[\"Bhima\"]=10\n",
    "dict_age[\"Chirag\"]=40\n",
    "dict_age[\"Deepak\"]=30\n",
    "print(\"Give all money to\",max(dict_age.items(),key=operator.itemgetter(1))[0])\n",
    "l=list(dict_age.values())"
   ]
  },
  {
   "cell_type": "markdown",
   "metadata": {},
   "source": [
    "Natural Language Toolkit\n",
    "The Natural Language Toolkit, or more commonly NLTK, is a suite of libraries and programs for symbolic and statistical natural language processing (NLP) for English written in the Python programming language.\n",
    "\n",
    "VADER ( Valence Aware Dictionary and sEntiment Reasoner ) is a lexicon and rule-based sentiment analysis tool that is specifically attuned to sentiments expressed in social media ."
   ]
  },
  {
   "cell_type": "code",
   "execution_count": null,
   "metadata": {},
   "outputs": [],
   "source": []
  }
 ],
 "metadata": {
  "kernelspec": {
   "display_name": "Python 3",
   "language": "python",
   "name": "python3"
  },
  "language_info": {
   "codemirror_mode": {
    "name": "ipython",
    "version": 3
   },
   "file_extension": ".py",
   "mimetype": "text/x-python",
   "name": "python",
   "nbconvert_exporter": "python",
   "pygments_lexer": "ipython3",
   "version": "3.7.3"
  }
 },
 "nbformat": 4,
 "nbformat_minor": 2
}
